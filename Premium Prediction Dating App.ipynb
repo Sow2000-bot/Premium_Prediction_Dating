{
 "cells": [
  {
   "cell_type": "code",
   "execution_count": 3,
   "id": "c7eb44e6-d0f2-4159-96ae-1f44a3ba4925",
   "metadata": {},
   "outputs": [
    {
     "name": "stderr",
     "output_type": "stream",
     "text": [
      "/var/folders/v0/7p3jv7gn4_d9m32tz8_pcv0w0000gn/T/ipykernel_30621/1962763724.py:1: DeprecationWarning: \n",
      "Pyarrow will become a required dependency of pandas in the next major release of pandas (pandas 3.0),\n",
      "(to allow more performant data types, such as the Arrow string type, and better interoperability with other libraries)\n",
      "but was not found to be installed on your system.\n",
      "If this would cause problems for you,\n",
      "please provide us feedback at https://github.com/pandas-dev/pandas/issues/54466\n",
      "        \n",
      "  import pandas as pd\n"
     ]
    }
   ],
   "source": [
    "import pandas as pd\n",
    "from sklearn.model_selection import train_test_split\n",
    "from sklearn.preprocessing import StandardScaler\n",
    "from sklearn.linear_model import LogisticRegression\n",
    "from sklearn.ensemble import RandomForestClassifier, GradientBoostingClassifier\n",
    "from sklearn.metrics import accuracy_score, classification_report\n",
    "import pickle\n"
   ]
  },
  {
   "cell_type": "markdown",
   "id": "fba0295b-0f22-4e61-9601-e6ebf6a7ad66",
   "metadata": {},
   "source": [
    "#### The data set is taken from Kaggle - \"https://www.kaggle.com/datasets/rabieelkharoua/predict-online-dating-matches-dataset/data\" ,\n",
    "\n",
    "#### The Dataset provides a comprehensive view into the dynamics of online matchmaking interactions. It captures essential variables that influence the likelihood of successful matches across different genders. This dataset allows researchers and analysts to explore how factors such as VIP subscription status, income levels, parental status, age, and self-perceived attractiveness contribute to the outcomes of online dating endeavors."
   ]
  },
  {
   "cell_type": "code",
   "execution_count": 4,
   "id": "3b10f40b-1fb2-474c-b13f-df7db3495afa",
   "metadata": {},
   "outputs": [
    {
     "name": "stdout",
     "output_type": "stream",
     "text": [
      "   Gender  PurchasedVIP  Income  Children  Age  Attractiveness  Matches\n",
      "0       0             1   51777         3   47               5       70\n",
      "1       1             0   36646         0   42               7      130\n",
      "2       0             0   53801         1   25               5        0\n",
      "3       0             0   56105         0   35               8        0\n",
      "4       0             0   55597         1   36               6        0\n"
     ]
    }
   ],
   "source": [
    "dating_data = pd.read_csv(\"Online_Dating_Behavior_Dataset.csv\")\n",
    "print(dating_data.head())"
   ]
  },
  {
   "cell_type": "code",
   "execution_count": 5,
   "id": "a028190c-cfd4-4672-8c23-63cdd24664ba",
   "metadata": {},
   "outputs": [
    {
     "name": "stdout",
     "output_type": "stream",
     "text": [
      "Gender            0\n",
      "PurchasedVIP      0\n",
      "Income            0\n",
      "Children          0\n",
      "Age               0\n",
      "Attractiveness    0\n",
      "Matches           0\n",
      "dtype: int64\n"
     ]
    }
   ],
   "source": [
    "missing_values = dating_data.isnull().sum()\n",
    "print(missing_values)\n"
   ]
  },
  {
   "cell_type": "code",
   "execution_count": 6,
   "id": "02ed6e72-3c00-423b-b08e-3a3efb6e5ccc",
   "metadata": {},
   "outputs": [
    {
     "name": "stdout",
     "output_type": "stream",
     "text": [
      "Gender            int64\n",
      "PurchasedVIP      int64\n",
      "Income            int64\n",
      "Children          int64\n",
      "Age               int64\n",
      "Attractiveness    int64\n",
      "Matches           int64\n",
      "dtype: object\n"
     ]
    }
   ],
   "source": [
    "print(dating_data.dtypes)"
   ]
  },
  {
   "cell_type": "markdown",
   "id": "0e37dd95-f4b4-45f5-8767-a7d5570bbefd",
   "metadata": {},
   "source": [
    "##### Since there are no null values and all the data types are integers we can proceed with the model creation "
   ]
  },
  {
   "cell_type": "markdown",
   "id": "f4305e30-611e-4bba-80e8-69551e8e6d0a",
   "metadata": {},
   "source": [
    "### Machine Learning \n",
    "\n",
    "#### Data PreProcessing \n",
    "\n"
   ]
  },
  {
   "cell_type": "code",
   "execution_count": 7,
   "id": "e7bdc82d-68ba-407f-874e-33b3e74f88cc",
   "metadata": {},
   "outputs": [],
   "source": [
    "X = dating_data.drop('PurchasedVIP', axis=1)\n",
    "y = dating_data['PurchasedVIP']\n",
    "\n",
    "X_train, X_test, y_train, y_test = train_test_split(X, y, test_size=0.30, random_state=42)\n"
   ]
  },
  {
   "cell_type": "code",
   "execution_count": 13,
   "id": "84220696-b2d8-4a96-a5ed-553931c9c796",
   "metadata": {},
   "outputs": [
    {
     "name": "stdout",
     "output_type": "stream",
     "text": [
      "[[-1.01149463  0.86778593 -0.97053491  0.51465377  0.11473228 -1.43833017]\n",
      " [-1.01149463  0.5081964  -0.97053491  1.40748558  0.11473228 -1.43833017]\n",
      " [-1.01149463  1.0957649   2.00049033  0.62625774 -1.30672963 -0.11030721]\n",
      " ...\n",
      " [-1.01149463 -1.5162369  -0.97053491  0.73786172 -0.95136415 -0.11030721]\n",
      " [-1.01149463  0.33726196  0.01980683 -1.71742577 -1.30672963 -1.43833017]\n",
      " [ 0.98863599 -0.61965237  0.01980683 -1.60582179  0.11473228  0.83828062]]\n"
     ]
    }
   ],
   "source": [
    "# Scaling  the features - the target is not to be scaled\n",
    "scaler = StandardScaler()\n",
    "X_train_scaled = scaler.fit_transform(X_train)\n",
    "X_test_scaled = scaler.transform(X_test)\n",
    "print(X_test_scaled)"
   ]
  },
  {
   "cell_type": "markdown",
   "id": "f789c69b-2e32-4789-92cb-e5e70322595f",
   "metadata": {},
   "source": [
    "### Logistic Regression"
   ]
  },
  {
   "cell_type": "code",
   "execution_count": 9,
   "id": "4f5a7216-251e-4066-9590-8e54233ffc6e",
   "metadata": {},
   "outputs": [
    {
     "name": "stdout",
     "output_type": "stream",
     "text": [
      "Logistic Regression Accuracy: 0.7633333333333333\n"
     ]
    }
   ],
   "source": [
    "log_reg = LogisticRegression()\n",
    "log_reg.fit(X_train_scaled, y_train)\n",
    "y_pred_log_reg = log_reg.predict(X_test_scaled)\n",
    "accuracy_log_reg = accuracy_score(y_test, y_pred_log_reg)\n",
    "print(\"Logistic Regression Accuracy:\", accuracy_log_reg)"
   ]
  },
  {
   "cell_type": "markdown",
   "id": "1dfd65fb-5820-4d09-be19-1cc47bd01070",
   "metadata": {},
   "source": [
    "### Random Forest"
   ]
  },
  {
   "cell_type": "code",
   "execution_count": 10,
   "id": "29213d57-1b90-4941-9d74-f5decf53b4d2",
   "metadata": {},
   "outputs": [
    {
     "name": "stdout",
     "output_type": "stream",
     "text": [
      "Random Forest Accuracy: 0.7166666666666667\n"
     ]
    }
   ],
   "source": [
    "\n",
    "rf_clf = RandomForestClassifier(random_state=42)\n",
    "rf_clf.fit(X_train_scaled, y_train)\n",
    "y_pred_rf = rf_clf.predict(X_test_scaled)\n",
    "accuracy_rf = accuracy_score(y_test, y_pred_rf)\n",
    "print(\"Random Forest Accuracy:\", accuracy_rf)"
   ]
  },
  {
   "cell_type": "markdown",
   "id": "12124955-b9d7-417b-8273-687650df299a",
   "metadata": {},
   "source": [
    "### Gradient Boosting"
   ]
  },
  {
   "cell_type": "code",
   "execution_count": 11,
   "id": "614a20ad-6cbf-4c3b-8217-c934af33823b",
   "metadata": {},
   "outputs": [
    {
     "name": "stdout",
     "output_type": "stream",
     "text": [
      "Gradient Boosting Accuracy: 0.7233333333333334\n"
     ]
    }
   ],
   "source": [
    "\n",
    "gb_clf = GradientBoostingClassifier(random_state=42)\n",
    "gb_clf.fit(X_train_scaled, y_train)\n",
    "y_pred_gb = gb_clf.predict(X_test_scaled)\n",
    "accuracy_gb = accuracy_score(y_test, y_pred_gb)\n",
    "print(\"Gradient Boosting Accuracy:\", accuracy_gb)"
   ]
  },
  {
   "cell_type": "code",
   "execution_count": 14,
   "id": "65153189-e50a-42a1-9ff3-1700c474e42d",
   "metadata": {},
   "outputs": [
    {
     "name": "stdout",
     "output_type": "stream",
     "text": [
      "Logistic Regression Prediction (0 = Not Purchased VIP, 1 = Purchased VIP)----> 0\n",
      "Random Forest Prediction (0 = Not Purchased VIP, 1 = Purchased VIP)-----> 0\n",
      "Gradient Boosting Prediction (0 = Not Purchased VIP, 1 = Purchased VIP)----> 0\n"
     ]
    }
   ],
   "source": [
    "#Prediction - 0= no 1 = yes \n",
    " #Example new data point (replace these values with your actual feature values)\n",
    "# Features: [Gender, Income, Children, Age, Attractiveness,matches]\n",
    "\n",
    "\n",
    "new_data_point = pd.DataFrame([[0 , 2000 , 1,  29 , 8 , 10]], columns=['Gender', 'Income', 'Children', 'Age', 'Attractiveness', 'Matches']) # Example values  \n",
    "\n",
    "# Scale the new data point using the same scaler used for the training data\n",
    "new_data_point_scaled = scaler.transform(new_data_point)\n",
    "\n",
    "# Predict using the trained Logistic Regression model\n",
    "prediction_log_reg = log_reg.predict(new_data_point_scaled)\n",
    "print(\"Logistic Regression Prediction (0 = Not Purchased VIP, 1 = Purchased VIP)---->\", prediction_log_reg[0])\n",
    "\n",
    "# Predict using the trained Random Forest model\n",
    "prediction_rf = rf_clf.predict(new_data_point_scaled)\n",
    "print(\"Random Forest Prediction (0 = Not Purchased VIP, 1 = Purchased VIP)----->\", prediction_rf[0])\n",
    "\n",
    "# Predict using the trained Gradient Boosting model\n",
    "prediction_gb = gb_clf.predict(new_data_point_scaled)\n",
    "print(\"Gradient Boosting Prediction (0 = Not Purchased VIP, 1 = Purchased VIP)---->\", prediction_gb[0])"
   ]
  },
  {
   "cell_type": "code",
   "execution_count": null,
   "id": "c1c86bb0-9c23-4f18-aae3-7f1d4d1de10e",
   "metadata": {},
   "outputs": [],
   "source": []
  },
  {
   "cell_type": "code",
   "execution_count": null,
   "id": "ffe864c3-6320-471a-aa91-05559922f4d6",
   "metadata": {},
   "outputs": [],
   "source": []
  }
 ],
 "metadata": {
  "kernelspec": {
   "display_name": "Python 3.8.9 64-bit",
   "language": "python",
   "name": "python3"
  },
  "language_info": {
   "codemirror_mode": {
    "name": "ipython",
    "version": 3
   },
   "file_extension": ".py",
   "mimetype": "text/x-python",
   "name": "python",
   "nbconvert_exporter": "python",
   "pygments_lexer": "ipython3",
   "version": "3.8.9"
  },
  "vscode": {
   "interpreter": {
    "hash": "31f2aee4e71d21fbe5cf8b01ff0e069b9275f58929596ceb00d14d90e3e16cd6"
   }
  }
 },
 "nbformat": 4,
 "nbformat_minor": 5
}
